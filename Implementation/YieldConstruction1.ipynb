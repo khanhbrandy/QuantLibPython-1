{
 "cells": [
  {
   "cell_type": "code",
   "execution_count": 1,
   "metadata": {},
   "outputs": [],
   "source": [
    "from QuantLib import *"
   ]
  },
  {
   "cell_type": "code",
   "execution_count": 4,
   "metadata": {},
   "outputs": [],
   "source": [
    "depo_maturities = [Period(6,Months), Period(12, Months)]\n",
    "bond_maturities = [Period(6, Months) for i in range(3, 21)]"
   ]
  },
  {
   "cell_type": "code",
   "execution_count": 5,
   "metadata": {},
   "outputs": [],
   "source": [
    "depo_rates = [5.25, 5.5]\n",
    "bond_rates = [5.7, 6.0, 6.25, 6.5, 6.75, 6.80, 7.00, 7.1,\n",
    "                  7.15, 7.2, 7.3, 7.35, 7.4, 7.5, 7.6, 7.7, 7.8]"
   ]
  },
  {
   "cell_type": "code",
   "execution_count": 8,
   "metadata": {},
   "outputs": [],
   "source": [
    "reference_date = Date(15,1,2015)\n",
    "Settings.instance().evaluationDate = reference_date\n",
    "calc_date = reference_date"
   ]
  },
  {
   "cell_type": "code",
   "execution_count": 10,
   "metadata": {},
   "outputs": [],
   "source": [
    "calendar = UnitedStates()\n",
    "business_convention = Unadjusted\n",
    "day_count = Thirty360()\n",
    "end_of_month = True\n",
    "settlement_days = 0\n",
    "face_amount = 100\n",
    "coupon_frequency = Period(Semiannual)\n",
    "settlement_days = 0"
   ]
  },
  {
   "cell_type": "code",
   "execution_count": 11,
   "metadata": {},
   "outputs": [],
   "source": [
    "depo_helpers = [DepositRateHelper(QuoteHandle(SimpleQuote(r/100.0)),\n",
    "                                 m, \n",
    "                                 settlement_days,\n",
    "                                 calendar,\n",
    "                                 business_convention,\n",
    "                                 end_of_month,\n",
    "                                 day_count) \n",
    "               for r, m in zip(depo_rates, depo_maturities)]"
   ]
  },
  {
   "cell_type": "code",
   "execution_count": 12,
   "metadata": {},
   "outputs": [
    {
     "data": {
      "text/plain": [
       "[<QuantLib.QuantLib.DepositRateHelper; proxy of <Swig Object of type 'DepositRateHelperPtr *' at 0x110c69d80> >,\n",
       " <QuantLib.QuantLib.DepositRateHelper; proxy of <Swig Object of type 'DepositRateHelperPtr *' at 0x110c69e10> >]"
      ]
     },
     "execution_count": 12,
     "metadata": {},
     "output_type": "execute_result"
    }
   ],
   "source": [
    "depo_helpers"
   ]
  },
  {
   "cell_type": "code",
   "execution_count": 29,
   "metadata": {},
   "outputs": [],
   "source": [
    "bond_helpers = []\n",
    "for r, m in zip(bond_rates, bond_maturities):\n",
    "    termination_date = calc_date + m\n",
    "    schedule = Schedule(calc_date,\n",
    "                          termination_date,\n",
    "                          coupon_frequency,\n",
    "                          calendar,\n",
    "                          business_convention,\n",
    "                          business_convention,\n",
    "                          DateGeneration.Backward, \n",
    "                          end_of_month)\n",
    "    helper = FixedRateBondHelper(QuoteHandle(SimpleQuote(face_amount)),\n",
    "                                    settlement_days, \n",
    "                                    face_amount, \n",
    "                                    schedule, \n",
    "                                    [r/100.0],\n",
    "                                    day_count,\n",
    "                                    business_convention)\n",
    "    bond_helpers.append(helper)"
   ]
  },
  {
   "cell_type": "code",
   "execution_count": 30,
   "metadata": {},
   "outputs": [],
   "source": [
    "rate_helpers = depo_helpers + bond_helpers\n",
    "yieldcurve = PiecewiseLogCubicDiscount(calc_date,\n",
    "                                      rate_helpers,\n",
    "                                      day_count)"
   ]
  },
  {
   "cell_type": "markdown",
   "metadata": {},
   "source": [
    "### LIBOR CONSTRUCTION"
   ]
  },
  {
   "cell_type": "code",
   "execution_count": 33,
   "metadata": {},
   "outputs": [],
   "source": [
    "helpers = [SwapRateHelper(QuoteHandle(SimpleQuote(rate/100.0)),\n",
    "                          Period(*tenor), TARGET(),\n",
    "                          Annual, Unadjusted,\n",
    "                          Thirty360(),\n",
    "                          Euribor6M())\n",
    "          for tenor, rate in [((2, Years), 0.201),\n",
    "                             ((3, Years), 0.258),\n",
    "                             ((5, Years), 0.464),\n",
    "                             ((10, Years), 1.151),\n",
    "                             ((15, Years), 1.588)]]"
   ]
  },
  {
   "cell_type": "code",
   "execution_count": 34,
   "metadata": {},
   "outputs": [],
   "source": [
    "curve1 = PiecewiseFlatForward(0, TARGET(), helpers, Actual360())"
   ]
  },
  {
   "cell_type": "code",
   "execution_count": 35,
   "metadata": {},
   "outputs": [
    {
     "data": {
      "text/plain": [
       "((Date(15,1,2015), 0.001977769487929328),\n",
       " (Date(19,1,2017), 0.001977769487929328),\n",
       " (Date(19,1,2018), 0.0036675383554942956),\n",
       " (Date(20,1,2020), 0.007629248495439154),\n",
       " (Date(20,1,2025), 0.0184154249894188),\n",
       " (Date(21,1,2030), 0.025313247068010428))"
      ]
     },
     "execution_count": 35,
     "metadata": {},
     "output_type": "execute_result"
    }
   ],
   "source": [
    "curve1.nodes()"
   ]
  },
  {
   "cell_type": "code",
   "execution_count": 38,
   "metadata": {},
   "outputs": [],
   "source": [
    "dates, rate = zip(*curve1.nodes())"
   ]
  },
  {
   "cell_type": "code",
   "execution_count": 39,
   "metadata": {},
   "outputs": [],
   "source": [
    "curve2 = ForwardCurve(dates, rate, Actual360())"
   ]
  },
  {
   "cell_type": "code",
   "execution_count": 40,
   "metadata": {},
   "outputs": [
    {
     "name": "stdout",
     "output_type": "stream",
     "text": [
      "January 15th, 2015 to January 21st, 2030\n"
     ]
    }
   ],
   "source": [
    "print(curve2.referenceDate(), 'to', curve2.maxDate())"
   ]
  },
  {
   "cell_type": "code",
   "execution_count": null,
   "metadata": {},
   "outputs": [],
   "source": [
    "print"
   ]
  }
 ],
 "metadata": {
  "kernelspec": {
   "display_name": "Python 3",
   "language": "python",
   "name": "python3"
  },
  "language_info": {
   "codemirror_mode": {
    "name": "ipython",
    "version": 3
   },
   "file_extension": ".py",
   "mimetype": "text/x-python",
   "name": "python",
   "nbconvert_exporter": "python",
   "pygments_lexer": "ipython3",
   "version": "3.6.8"
  }
 },
 "nbformat": 4,
 "nbformat_minor": 2
}
