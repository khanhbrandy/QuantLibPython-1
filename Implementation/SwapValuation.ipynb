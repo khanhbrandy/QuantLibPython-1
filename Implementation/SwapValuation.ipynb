{
 "cells": [
  {
   "cell_type": "markdown",
   "metadata": {},
   "source": [
    "# In this notebook , I will value interest rate swap using QuantLib library"
   ]
  },
  {
   "cell_type": "code",
   "execution_count": 1,
   "metadata": {},
   "outputs": [],
   "source": [
    "from QuantLib import *"
   ]
  },
  {
   "cell_type": "code",
   "execution_count": 3,
   "metadata": {},
   "outputs": [],
   "source": [
    "rf = 0.01\n",
    "libor_rate = 0.02\n",
    "day_count = Actual365Fixed()\n",
    "reference_date = Date(20,10,2015)\n",
    "Settings.instance().evaluationDate = reference_date"
   ]
  },
  {
   "cell_type": "code",
   "execution_count": 4,
   "metadata": {},
   "outputs": [],
   "source": [
    "curve = YieldTermStructureHandle(FlatForward(reference_date, rf, day_count))"
   ]
  },
  {
   "cell_type": "code",
   "execution_count": 5,
   "metadata": {},
   "outputs": [],
   "source": [
    "libor_curve = YieldTermStructureHandle(FlatForward(reference_date, libor_rate, day_count))"
   ]
  },
  {
   "cell_type": "code",
   "execution_count": 17,
   "metadata": {},
   "outputs": [],
   "source": [
    "libor3M_index = USDLibor(Period(3, Months), libor_curve)"
   ]
  },
  {
   "cell_type": "markdown",
   "metadata": {},
   "source": [
    "#### Now we need the fixed leg and floating leg for the swap. We construct the fixed rate and floating rate leg schedules as below.\n",
    "\n",
    "##### Several things need attention:\n",
    "\n",
    "- calendar.advance: append the days according the calendar chosen\n",
    "- ModifiedFollowing: choose the first business day after the given holiday unless it belongs to a different month, in which case choose the first business day before the holiday.\n",
    "- DateGeneration.Forward: Forward from effective date to termination date"
   ]
  },
  {
   "cell_type": "code",
   "execution_count": 14,
   "metadata": {},
   "outputs": [],
   "source": [
    "calendar = UnitedStates()\n",
    "\n",
    "# move forward 5 days from the reference date using US business calendar (holidays and off-days in the Calendar considered)\n",
    "settle_date = calendar.advance(reference_date, 5, Days)\n",
    "\n",
    "# move 10 years from the settlement date.\n",
    "maturity_date = calendar.advance(settle_date, 10, Years)\n",
    "\n",
    "# period of payment every 6 months\n",
    "fixed_leg_tenor = Period(6, Months)\n",
    "fixed_schedule = Schedule(settle_date, maturity_date,\n",
    "                         fixed_leg_tenor, calendar, \n",
    "                         ModifiedFollowing, ModifiedFollowing,\n",
    "                         DateGeneration.Forward, False)\n",
    "\n",
    "# period of payment every 3 months\n",
    "float_leg_tenor = Period(3, Months)\n",
    "float_schedule = Schedule(settle_date, maturity_date, \n",
    "                         float_leg_tenor, calendar, \n",
    "                         ModifiedFollowing, ModifiedFollowing,\n",
    "                         DateGeneration.Forward, False)"
   ]
  },
  {
   "cell_type": "code",
   "execution_count": null,
   "metadata": {},
   "outputs": [],
   "source": []
  },
  {
   "cell_type": "code",
   "execution_count": 19,
   "metadata": {},
   "outputs": [],
   "source": [
    "notional = 1000000\n",
    "fixed_rate = 0.025\n",
    "fixed_leg_daycount = Actual360()\n",
    "float_spread = 0.004\n",
    "float_leg_daycount = Actual360()\n",
    "\n",
    "ir_swap = VanillaSwap(VanillaSwap.Payer, notional, fixed_schedule, \n",
    "                     fixed_rate, fixed_leg_daycount, float_schedule, \n",
    "                     libor3M_index, float_spread, float_leg_daycount)"
   ]
  },
  {
   "cell_type": "code",
   "execution_count": 22,
   "metadata": {},
   "outputs": [],
   "source": [
    "swap_engine = DiscountingSwapEngine(curve)\n",
    "ir_swap.setPricingEngine(swap_engine)"
   ]
  },
  {
   "cell_type": "code",
   "execution_count": 31,
   "metadata": {
    "scrolled": true
   },
   "outputs": [
    {
     "name": "stdout",
     "output_type": "stream",
     "text": [
      " 1 April 27th, 2016     12708.33\n",
      " 2 October 27th, 2016   12708.33\n",
      " 3 April 27th, 2017     12638.89\n",
      " 4 October 27th, 2017   12708.33\n",
      " 5 April 27th, 2018     12638.89\n",
      " 6 October 29th, 2018   12847.22\n",
      " 7 April 29th, 2019     12638.89\n",
      " 8 October 28th, 2019   12638.89\n",
      " 9 April 27th, 2020     12638.89\n",
      "10 October 27th, 2020   12708.33\n",
      "11 April 27th, 2021     12638.89\n",
      "12 October 27th, 2021   12708.33\n",
      "13 April 27th, 2022     12638.89\n",
      "14 October 27th, 2022   12708.33\n",
      "15 April 27th, 2023     12638.89\n",
      "16 October 27th, 2023   12708.33\n",
      "17 April 29th, 2024     12847.22\n",
      "18 October 28th, 2024   12638.89\n",
      "19 April 28th, 2025     12638.89\n",
      "20 October 27th, 2025   12638.89\n"
     ]
    }
   ],
   "source": [
    "for i, cf in enumerate(ir_swap.leg(0)):\n",
    "    print(\"%2d %-18s %10.2f\"%(i+1, cf.date(), cf.amount()))"
   ]
  },
  {
   "cell_type": "code",
   "execution_count": 32,
   "metadata": {},
   "outputs": [
    {
     "name": "stdout",
     "output_type": "stream",
     "text": [
      " 1 January 27th, 2016    6076.05\n",
      " 2 April 27th, 2016      6009.86\n",
      " 3 July 27th, 2016       6009.86\n",
      " 4 October 27th, 2016    6076.05\n",
      " 5 January 27th, 2017    6076.05\n",
      " 6 April 27th, 2017      5943.69\n",
      " 7 July 27th, 2017       6009.86\n",
      " 8 October 27th, 2017    6076.05\n",
      " 9 January 29th, 2018    6208.42\n",
      "10 April 27th, 2018      5811.34\n",
      "11 July 27th, 2018       6009.86\n",
      "12 October 29th, 2018    6208.42\n",
      "13 January 28th, 2019    6009.86\n",
      "14 April 29th, 2019      6009.86\n",
      "15 July 29th, 2019       6009.86\n",
      "16 October 28th, 2019    6009.86\n",
      "17 January 27th, 2020    6009.86\n",
      "18 April 27th, 2020      6009.86\n",
      "19 July 27th, 2020       6009.86\n",
      "20 October 27th, 2020    6076.05\n",
      "21 January 27th, 2021    6076.05\n",
      "22 April 27th, 2021      5943.69\n",
      "23 July 27th, 2021       6009.86\n",
      "24 October 27th, 2021    6076.05\n",
      "25 January 27th, 2022    6076.05\n",
      "26 April 27th, 2022      5943.69\n",
      "27 July 27th, 2022       6009.86\n",
      "28 October 27th, 2022    6076.05\n",
      "29 January 27th, 2023    6076.05\n",
      "30 April 27th, 2023      5943.69\n",
      "31 July 27th, 2023       6009.86\n",
      "32 October 27th, 2023    6076.05\n",
      "33 January 29th, 2024    6208.42\n",
      "34 April 29th, 2024      6009.86\n",
      "35 July 29th, 2024       6009.86\n",
      "36 October 28th, 2024    6009.86\n",
      "37 January 27th, 2025    6009.86\n",
      "38 April 28th, 2025      6009.86\n",
      "39 July 28th, 2025       6009.86\n",
      "40 October 27th, 2025    6009.86\n"
     ]
    }
   ],
   "source": [
    "for i, cf in enumerate(ir_swap.leg(1)):\n",
    "    print(\"%2d %-18s %10.2f\"%(i+1, cf.date(), cf.amount()))"
   ]
  },
  {
   "cell_type": "code",
   "execution_count": null,
   "metadata": {},
   "outputs": [],
   "source": []
  }
 ],
 "metadata": {
  "kernelspec": {
   "display_name": "Python 3",
   "language": "python",
   "name": "python3"
  },
  "language_info": {
   "codemirror_mode": {
    "name": "ipython",
    "version": 3
   },
   "file_extension": ".py",
   "mimetype": "text/x-python",
   "name": "python",
   "nbconvert_exporter": "python",
   "pygments_lexer": "ipython3",
   "version": "3.6.8"
  }
 },
 "nbformat": 4,
 "nbformat_minor": 2
}
