{
 "cells": [
  {
   "cell_type": "markdown",
   "metadata": {},
   "source": [
    "# In this notebook, I will calculate the swap based on VNIBOR rate using QuantLib library"
   ]
  },
  {
   "cell_type": "code",
   "execution_count": 41,
   "metadata": {},
   "outputs": [],
   "source": [
    "# Import QuantLib library\n",
    "from QuantLib import *"
   ]
  },
  {
   "cell_type": "markdown",
   "metadata": {},
   "source": [
    "### Data used:\n",
    "A plain vanilla USD swap with 1 Billion VND notional and 5-year maturity. Let the fixed leg pay 8% coupon semiannually, and the floating leg pay VNIBOR+55bps quarterly"
   ]
  },
  {
   "cell_type": "code",
   "execution_count": 42,
   "metadata": {},
   "outputs": [],
   "source": [
    "reference_date = Date(18,3,2019)\n",
    "Settings.instance().evaluationDate = reference_date"
   ]
  },
  {
   "cell_type": "markdown",
   "metadata": {},
   "source": [
    "The easiest case which does not involve the construction yield curve is that we assume the flat term structure. The code is:"
   ]
  },
  {
   "cell_type": "code",
   "execution_count": 43,
   "metadata": {},
   "outputs": [],
   "source": [
    "rf = 0.05\n",
    "vnibor = 0.07\n",
    "day_count = Actual365Fixed()\n",
    "\n",
    "discount_curve = YieldTermStructureHandle(FlatForward(reference_date, rf, day_count))\n",
    "vnibor_curve = YieldTermStructureHandle(FlatForward(reference_date, vnibor, day_count))\n",
    "\n",
    "# Assuming state bank of Vietnam has the similar settlement rules as LIBOR.\n",
    "vnibor3M_index = USDLibor(Period(3, Months), vnibor_curve)"
   ]
  },
  {
   "cell_type": "markdown",
   "metadata": {},
   "source": [
    "### Create Calendar, Settlement and Maturity Date\n",
    "\n",
    "- `QuantLib` does not offer specific class for Vietnam calendar so I will TARGET class to create the calendar\n",
    "- `effective_date` is the first day of the contract, start 5 business days from now\n",
    "- `maturity_date` is the final day of the contract, start 5 years from now.\n",
    "- `Schedule` is created accordingly based on the information below"
   ]
  },
  {
   "cell_type": "code",
   "execution_count": 44,
   "metadata": {},
   "outputs": [],
   "source": [
    "calendar = TARGET()\n",
    "effective_date  = calendar.advance(reference_date, 5, Days)\n",
    "maturity_date = calendar.advance(effective_date, 5, Years)\n",
    "\n",
    "fixed_tenor = Period(6, Months)\n",
    "fixed_schedule = Schedule(effective_date, maturity_date, \n",
    "                         fixed_tenor, calendar, \n",
    "                         ModifiedFollowing, ModifiedFollowing,\n",
    "                         DateGeneration.Forward, False)\n",
    "\n",
    "float_tenor = Period(3, Months)\n",
    "float_schedule = Schedule(effective_date, maturity_date, \n",
    "                         float_tenor, calendar,\n",
    "                         ModifiedFollowing, ModifiedFollowing,\n",
    "                         DateGeneration.Forward, False)"
   ]
  },
  {
   "cell_type": "markdown",
   "metadata": {},
   "source": [
    "### Necessary inputs\n",
    "- Create swap instrument object using `VanillaSwap`"
   ]
  },
  {
   "cell_type": "code",
   "execution_count": 45,
   "metadata": {},
   "outputs": [],
   "source": [
    "# 1 billion notional\n",
    "notional = 1000000000\n",
    "# fixed rate 0.08\n",
    "fixed_rate = 0.08\n",
    "fixed_daycount = Actual360()\n",
    "\n",
    "# spread for swap over \n",
    "float_spread = 0.0055\n",
    "float_daycount = Actual360()\n",
    "\n",
    "ir_swap = VanillaSwap(VanillaSwap.Payer, notional, \n",
    "                      fixed_schedule, fixed_rate, fixed_daycount, \n",
    "                      float_schedule, vnibor3M_index, float_spread, float_daycount)"
   ]
  },
  {
   "cell_type": "markdown",
   "metadata": {},
   "source": [
    "- pass in the swap engine `DiscountingSwapEngine`"
   ]
  },
  {
   "cell_type": "code",
   "execution_count": 46,
   "metadata": {},
   "outputs": [],
   "source": [
    "swap_engine = DiscountingSwapEngine(discount_curve)\n",
    "ir_swap.setPricingEngine(swap_engine)"
   ]
  },
  {
   "cell_type": "markdown",
   "metadata": {},
   "source": [
    "### Final result for swap valuation:"
   ]
  },
  {
   "cell_type": "code",
   "execution_count": 47,
   "metadata": {},
   "outputs": [
    {
     "name": "stdout",
     "output_type": "stream",
     "text": [
      " 1 September 25th, 2019           40888888.89\n",
      " 2 March 25th, 2020               40444444.44\n",
      " 3 September 25th, 2020           40888888.89\n",
      " 4 March 25th, 2021               40222222.22\n",
      " 5 September 27th, 2021           41333333.33\n",
      " 6 March 25th, 2022               39777777.78\n",
      " 7 September 26th, 2022           41111111.11\n",
      " 8 March 27th, 2023               40444444.44\n",
      " 9 September 25th, 2023           40444444.44\n",
      "10 March 25th, 2024               40444444.44\n"
     ]
    }
   ],
   "source": [
    "## value for fixed leg\n",
    "for index, cf in enumerate(ir_swap.leg(0)):\n",
    "    print(\"%2d %-30s %10.2f\"%(index+1, cf.date(), float(cf.amount())))"
   ]
  },
  {
   "cell_type": "code",
   "execution_count": 48,
   "metadata": {},
   "outputs": [
    {
     "name": "stdout",
     "output_type": "stream",
     "text": [
      " 1 June 25th, 2019                19205963.13\n",
      " 2 September 25th, 2019           19205963.13\n",
      " 3 December 27th, 2019            19416454.22\n",
      " 4 March 25th, 2020               18574714.42\n",
      " 5 June 25th, 2020                19205963.13\n",
      " 6 September 25th, 2020           19205963.13\n",
      " 7 December 28th, 2020            19628732.44\n",
      " 8 March 25th, 2021               18152451.30\n",
      " 9 June 25th, 2021                19205963.13\n",
      "10 September 27th, 2021           19626982.76\n",
      "11 December 27th, 2021            18998896.07\n",
      "12 March 25th, 2022               18361100.16\n",
      "13 June 27th, 2022                19626982.76\n",
      "14 September 26th, 2022           18995509.47\n",
      "15 December 27th, 2022            19207675.14\n",
      "16 March 27th, 2023               18783419.08\n",
      "17 June 26th, 2023                18995509.47\n",
      "18 September 25th, 2023           18995509.47\n",
      "19 December 27th, 2023            19416454.22\n",
      "20 March 25th, 2024               18574714.42\n"
     ]
    }
   ],
   "source": [
    "## value of floating leg\n",
    "for index, cf in enumerate(ir_swap.leg(1)):\n",
    "    print(\"%2d %-30s %10.2f\"%(index+1, cf.date(), float(cf.amount())))"
   ]
  },
  {
   "cell_type": "code",
   "execution_count": 50,
   "metadata": {},
   "outputs": [
    {
     "name": "stdout",
     "output_type": "stream",
     "text": [
      "-19388137.154498816\n",
      "0.009849625613727285\n",
      "0.07562299174263383\n",
      "-442954.0913446994\n",
      "445742.665605758\n"
     ]
    }
   ],
   "source": [
    "# NPV for fixed-rate payer, floating-rate receiver.\n",
    "print(ir_swap.NPV())\n",
    "print(ir_swap.fairSpread())\n",
    "print(ir_swap.fairRate())\n",
    "print(ir_swap.fixedLegBPS())\n",
    "print(ir_swap.floatingLegBPS())"
   ]
  },
  {
   "cell_type": "code",
   "execution_count": null,
   "metadata": {},
   "outputs": [],
   "source": []
  },
  {
   "cell_type": "code",
   "execution_count": null,
   "metadata": {},
   "outputs": [],
   "source": []
  }
 ],
 "metadata": {
  "kernelspec": {
   "display_name": "Python 3",
   "language": "python",
   "name": "python3"
  },
  "language_info": {
   "codemirror_mode": {
    "name": "ipython",
    "version": 3
   },
   "file_extension": ".py",
   "mimetype": "text/x-python",
   "name": "python",
   "nbconvert_exporter": "python",
   "pygments_lexer": "ipython3",
   "version": "3.6.8"
  }
 },
 "nbformat": 4,
 "nbformat_minor": 2
}
