{
 "cells": [
  {
   "cell_type": "code",
   "execution_count": 2,
   "metadata": {},
   "outputs": [],
   "source": [
    "from QuantLib import *\n",
    "Settings.instance().evaluationDate = Date(3, October, 2014)"
   ]
  },
  {
   "cell_type": "code",
   "execution_count": 3,
   "metadata": {},
   "outputs": [],
   "source": [
    "helpers = [SwapRateHelper(QuoteHandle(SimpleQuote(rate/100.0)),\n",
    "                          Period(*tenor), \n",
    "                          TARGET(),\n",
    "                          Annual, \n",
    "                          Unadjusted,\n",
    "                          Thirty360(),\n",
    "                          Euribor6M()) for tenor, rate in [((2, Years), 0.201),\n",
    "                                                          ((3, Years), 0.258),\n",
    "                                                          ((5, Years), 0.464),\n",
    "                                                          ((10, Years), 1.151),\n",
    "                                                          ((15, Years), 1.588)]]"
   ]
  },
  {
   "cell_type": "code",
   "execution_count": 11,
   "metadata": {},
   "outputs": [],
   "source": [
    "curve1 = PiecewiseFlatForward(0, TARGET(), helpers, Actual360())"
   ]
  },
  {
   "cell_type": "code",
   "execution_count": 14,
   "metadata": {},
   "outputs": [
    {
     "data": {
      "text/plain": [
       "((Date(3,10,2014), 0.0019777694879293093),\n",
       " (Date(7,10,2016), 0.0019777694879293093),\n",
       " (Date(9,10,2017), 0.0036475517704509294),\n",
       " (Date(7,10,2019), 0.007660760701876805),\n",
       " (Date(7,10,2024), 0.018414773669420893),\n",
       " (Date(8,10,2029), 0.025311634328221498))"
      ]
     },
     "execution_count": 14,
     "metadata": {},
     "output_type": "execute_result"
    }
   ],
   "source": [
    "curve1.nodes()"
   ]
  },
  {
   "cell_type": "code",
   "execution_count": null,
   "metadata": {},
   "outputs": [],
   "source": []
  },
  {
   "cell_type": "code",
   "execution_count": null,
   "metadata": {},
   "outputs": [],
   "source": []
  }
 ],
 "metadata": {
  "kernelspec": {
   "display_name": "Python 3",
   "language": "python",
   "name": "python3"
  },
  "language_info": {
   "codemirror_mode": {
    "name": "ipython",
    "version": 3
   },
   "file_extension": ".py",
   "mimetype": "text/x-python",
   "name": "python",
   "nbconvert_exporter": "python",
   "pygments_lexer": "ipython3",
   "version": "3.6.8"
  }
 },
 "nbformat": 4,
 "nbformat_minor": 2
}
