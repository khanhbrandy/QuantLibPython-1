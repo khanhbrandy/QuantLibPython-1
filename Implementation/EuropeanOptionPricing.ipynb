{
 "cells": [
  {
   "cell_type": "markdown",
   "metadata": {},
   "source": [
    "# In this notebook, I will write code to implement option pricing using QuantLib-Python library "
   ]
  },
  {
   "cell_type": "markdown",
   "metadata": {},
   "source": [
    "## 1. Plain Vanilla Call Option"
   ]
  },
  {
   "cell_type": "code",
   "execution_count": 85,
   "metadata": {},
   "outputs": [],
   "source": [
    "from QuantLib import *"
   ]
  },
  {
   "cell_type": "code",
   "execution_count": 86,
   "metadata": {},
   "outputs": [
    {
     "name": "stdout",
     "output_type": "stream",
     "text": [
      "March 14th, 2019\n"
     ]
    }
   ],
   "source": [
    "today = Date(14, March, 2019)\n",
    "Settings.instance().evaluationDate = today\n",
    "print(today)"
   ]
  },
  {
   "cell_type": "markdown",
   "metadata": {},
   "source": [
    "First we take a look at available class and function in QuantLib-Python library. Most of them have the same name as class implemented in C++. \n",
    "To understand QuantLib Implementation, it is necessary to understand the class inheritance in C++ before performing language \"Sandwich\" implementation in Python."
   ]
  },
  {
   "cell_type": "markdown",
   "metadata": {},
   "source": [
    "We will price A European Option in this implementation. Several parameters needed to be take into account:\n",
    "- Stock quote\n",
    "- Interest quote\n",
    "- Volatility quote\n",
    "\n",
    "- Payoff object\n",
    "- Exercise object\n",
    "\n",
    "- Yield Curve/Term Structure\n",
    "- Volatility Structure\n",
    "- Underlying Process/ Stock Process\n",
    "- Pricing Engine\n",
    "\n",
    "In this example, I will price option with following parameters:\n",
    "- Stock quote: 100\n",
    "- Interest quote: 0.01 pa\n",
    "- Volatility quote: 0.20 pa\n",
    "\n",
    "- Payoff object:\n",
    "- Exercise object:\n",
    "\n",
    "- Yield Curve/Term Structure: Flat Term Structure (Spot rate = Forward rate)\n",
    "- Volatility Structure: Constant volatility Structure\n",
    "- Underlying Process/ Stock Process: Stock Price follows Lognormal Distribution\n",
    "- Pricing Engine: Analytical Pricing Engine from Black-Scholes."
   ]
  },
  {
   "cell_type": "code",
   "execution_count": 87,
   "metadata": {},
   "outputs": [],
   "source": [
    "# payoff object\n",
    "payoff = PlainVanillaPayoff(Option.Call, 100)\n",
    "# exercise object\n",
    "exercise = EuropeanExercise(Date(14,June,2019))\n",
    "# option object\n",
    "option = EuropeanOption(payoff, exercise)"
   ]
  },
  {
   "cell_type": "code",
   "execution_count": 88,
   "metadata": {},
   "outputs": [
    {
     "name": "stdout",
     "output_type": "stream",
     "text": [
      "100.0\n",
      "0.01\n",
      "0.2\n"
     ]
    }
   ],
   "source": [
    "# Stock SimpleQuote Object\n",
    "u = SimpleQuote(100.0)\n",
    "# Risk free rate SimpleQuote Object\n",
    "r = SimpleQuote(0.01)\n",
    "# Volatility SimpleQuote Object\n",
    "sigma = SimpleQuote(0.20)\n",
    "\n",
    "# check value\n",
    "print(u.value())\n",
    "print(r.value())\n",
    "print(sigma.value())"
   ]
  },
  {
   "cell_type": "code",
   "execution_count": 89,
   "metadata": {},
   "outputs": [],
   "source": [
    "# Term Structure Object\n",
    "riskFreeCurve = FlatForward(0, TARGET(), QuoteHandle(r), Actual360())\n",
    "# Volatility Structure Object\n",
    "volatility = BlackConstantVol(0, TARGET(), QuoteHandle(sigma), Actual360())\n",
    "# Note about the arguments necessary for those two functions\n",
    "# referenceDate(), calendar(), settlementDays()\n",
    "\n",
    "# We need Handle object to track/observe the changes in quotes. Pass Handle Objects to BLackScholesProcess constructor\n",
    "process = BlackScholesProcess(QuoteHandle(u), \n",
    "                              YieldTermStructureHandle(riskFreeCurve), \n",
    "                              BlackVolTermStructureHandle(volatility))"
   ]
  },
  {
   "cell_type": "code",
   "execution_count": 90,
   "metadata": {},
   "outputs": [],
   "source": [
    "# Pricing Engine \n",
    "engine = AnalyticEuropeanEngine(process)\n",
    "# Set Pricing Engine for option object\n",
    "option.setPricingEngine(engine)"
   ]
  },
  {
   "cell_type": "code",
   "execution_count": 91,
   "metadata": {},
   "outputs": [
    {
     "name": "stdout",
     "output_type": "stream",
     "text": [
      "4.155543462156206\n"
     ]
    }
   ],
   "source": [
    "# Option Value\n",
    "print(option.NPV())"
   ]
  },
  {
   "cell_type": "code",
   "execution_count": 92,
   "metadata": {},
   "outputs": [
    {
     "name": "stdout",
     "output_type": "stream",
     "text": [
      "0.5302223303784392\n",
      "0.03934493301271913\n",
      "20.109632428723106\n"
     ]
    }
   ],
   "source": [
    "# Other parameters could be achieved using member function of option object\n",
    "print(option.delta())\n",
    "print(option.gamma())\n",
    "print(option.vega())"
   ]
  },
  {
   "cell_type": "markdown",
   "metadata": {},
   "source": [
    "## 2. Changing parameters "
   ]
  },
  {
   "cell_type": "markdown",
   "metadata": {},
   "source": [
    "Market data is stored in Quote instances and thus can notify the option when any of them changes. Just change the quote and the price will changed accordingly. Below, I change the value of initial stock price, the risk free rate and the volatility. The price calculated changes accordingly."
   ]
  },
  {
   "cell_type": "code",
   "execution_count": 93,
   "metadata": {},
   "outputs": [
    {
     "name": "stdout",
     "output_type": "stream",
     "text": [
      "105.0\n",
      "0.02\n",
      "0.25\n"
     ]
    }
   ],
   "source": [
    "u.setValue(105)\n",
    "r.setValue(0.02)\n",
    "sigma.setValue(0.25)\n",
    "\n",
    "print(u.value())\n",
    "print(r.value())\n",
    "print(sigma.value())"
   ]
  },
  {
   "cell_type": "code",
   "execution_count": 94,
   "metadata": {},
   "outputs": [
    {
     "name": "stdout",
     "output_type": "stream",
     "text": [
      "8.367366802631873\n"
     ]
    }
   ],
   "source": [
    "print(option.NPV())"
   ]
  },
  {
   "cell_type": "markdown",
   "metadata": {},
   "source": [
    "I will plot the change of option value with respect to change in parameters in the model."
   ]
  },
  {
   "cell_type": "code",
   "execution_count": 95,
   "metadata": {},
   "outputs": [],
   "source": [
    "import matplotlib.pyplot as plt\n",
    "import numpy as np\n",
    "from IPython.display import display\n",
    "import utils"
   ]
  },
  {
   "cell_type": "code",
   "execution_count": 96,
   "metadata": {},
   "outputs": [
    {
     "data": {
      "text/plain": [
       "[<matplotlib.lines.Line2D at 0x116c9a048>]"
      ]
     },
     "execution_count": 96,
     "metadata": {},
     "output_type": "execute_result"
    },
    {
     "data": {
      "image/png": "[encoded data removed]",
      "text/plain": [
       "<Figure size 432x288 with 1 Axes>"
      ]
     },
     "metadata": {},
     "output_type": "display_data"
    }
   ],
   "source": [
    "# Stock Price changes\n",
    "f, ax = plt.subplots()\n",
    "xs = np.linspace(80.0, 120.0, 400)\n",
    "ys = []\n",
    "for x in xs:\n",
    "    u.setValue(x)\n",
    "    ys.append(option.NPV())\n",
    "ax.set_title(\"Option Value\")\n",
    "ax.plot(xs,ys)"
   ]
  },
  {
   "cell_type": "code",
   "execution_count": 97,
   "metadata": {},
   "outputs": [
    {
     "data": {
      "text/plain": [
       "[<matplotlib.lines.Line2D at 0x103d89f98>]"
      ]
     },
     "execution_count": 97,
     "metadata": {},
     "output_type": "execute_result"
    },
    {
     "data": {
      "image/png": "[encoded data removed]",
      "text/plain": [
       "<Figure size 432x288 with 1 Axes>"
      ]
     },
     "metadata": {},
     "output_type": "display_data"
    }
   ],
   "source": [
    "# Volatility changes\n",
    "f, ax = plt.subplots()\n",
    "xs = np.linspace(0.15,0.25,400)\n",
    "ys = []\n",
    "for x in xs:\n",
    "    sigma.setValue(x)\n",
    "    ys.append(option.NPV())\n",
    "ax.set_title(\"Option Value\")\n",
    "ax.plot(xs,ys)"
   ]
  },
  {
   "cell_type": "code",
   "execution_count": 98,
   "metadata": {},
   "outputs": [
    {
     "name": "stdout",
     "output_type": "stream",
     "text": [
      "Initial Date March 14th, 2019\n",
      "New Date April 7th, 2019\n"
     ]
    }
   ],
   "source": [
    "# Move the option forward\n",
    "print(\"Initial Date\",Settings.instance().evaluationDate)\n",
    "Settings.instance().evaluationDate = Date(7, April, 2019)\n",
    "print(\"New Date\", Settings.instance().evaluationDate)"
   ]
  },
  {
   "cell_type": "code",
   "execution_count": 99,
   "metadata": {},
   "outputs": [
    {
     "name": "stdout",
     "output_type": "stream",
     "text": [
      "4.39017750136621\n"
     ]
    }
   ],
   "source": [
    "# New Option Price\n",
    "u.setValue(100)\n",
    "r.setValue(0.01)\n",
    "sigma.setValue(0.25)\n",
    "print(option.NPV())"
   ]
  }
 ],
 "metadata": {
  "kernelspec": {
   "display_name": "Python 3",
   "language": "python",
   "name": "python3"
  },
  "language_info": {
   "codemirror_mode": {
    "name": "ipython",
    "version": 3
   },
   "file_extension": ".py",
   "mimetype": "text/x-python",
   "name": "python",
   "nbconvert_exporter": "python",
   "pygments_lexer": "ipython3",
   "version": "3.6.8"
  }
 },
 "nbformat": 4,
 "nbformat_minor": 2
}
